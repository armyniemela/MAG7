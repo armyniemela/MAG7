{
 "cells": [
  {
   "cell_type": "markdown",
   "id": "089292b4-cd9b-472e-be07-542bc0893d7a",
   "metadata": {},
   "source": [
    "In this notebook, I'm creating bar charts for the 10 biggest owners of each of the Mag7 companies. I don't know if I'll need them in my project; this is practice."
   ]
  },
  {
   "cell_type": "code",
   "execution_count": 2,
   "id": "7ba4aba1-ef3a-4bf2-968e-51f0f22f9073",
   "metadata": {},
   "outputs": [],
   "source": [
    "import requests"
   ]
  },
  {
   "cell_type": "code",
   "execution_count": 3,
   "id": "68e27c0e-8a44-44fa-9249-fdeb54bd5d20",
   "metadata": {},
   "outputs": [],
   "source": [
    "import pandas as pd"
   ]
  },
  {
   "cell_type": "code",
   "execution_count": 15,
   "id": "90abbe7e-05ca-4d8c-b4c7-7eaf0d8fab10",
   "metadata": {},
   "outputs": [],
   "source": [
    "# magbar_df = pd.read_csv(\"Mag7allnew.csv\")\n",
    "# magbar_df"
   ]
  },
  {
   "cell_type": "code",
   "execution_count": 5,
   "id": "46d0cb26-c915-404c-82e6-fcf539fd7e52",
   "metadata": {},
   "outputs": [],
   "source": [
    "# chekins my datatframe\n",
    "# magbar_df.head(21)"
   ]
  },
  {
   "cell_type": "code",
   "execution_count": 16,
   "id": "ebbcb68a-5e1b-4080-a057-8bac6df98121",
   "metadata": {},
   "outputs": [],
   "source": [
    "# dropping columns i don't need and cheking - one header is wrong\n",
    "# magbar_df = magbar_df.drop(columns=['PosChg', 'PosChg.1', 'PosChg.2', 'PosChg.3', 'PosChg.4', 'PosChg.5'])\n",
    "# magbar_df.columns"
   ]
  },
  {
   "cell_type": "code",
   "execution_count": 17,
   "id": "e0e95ed3-78b4-455c-a6b7-12dab1c5be58",
   "metadata": {},
   "outputs": [],
   "source": [
    "# magbar_df.rename(columns={'Unnamed: 9': 'HoldersAMZN'}, inplace=True)\n",
    "# magbar_df.columns"
   ]
  },
  {
   "cell_type": "code",
   "execution_count": 20,
   "id": "8e73b9d5-633c-4d47-b29e-1e98e5c42902",
   "metadata": {},
   "outputs": [],
   "source": [
    "#cheking types\n",
    "\n",
    "# magbar_df.dtypes"
   ]
  },
  {
   "cell_type": "code",
   "execution_count": 9,
   "id": "3c23b12d-7f57-4d98-ad53-e0471290c519",
   "metadata": {},
   "outputs": [],
   "source": [
    "# need to make objects OS and MkVAL to float before making a bar chart.\n",
    "# should have used for loop but...\n",
    "\n",
    "# magbar_df['OS'] = magbar_df['OS'].str.replace(',', '.').astype(float)\n",
    "# magbar_df['OS.1'] = magbar_df['OS.1'].str.replace(',', '.').astype(float)\n",
    "# magbar_df['OS.2'] = magbar_df['OS.2'].str.replace(',', '.').astype(float)\n",
    "# magbar_df['OS.3'] = magbar_df['OS.3'].str.replace(',', '.').astype(float)\n",
    "# magbar_df['OS.4'] = magbar_df['OS.4'].str.replace(',', '.').astype(float)\n",
    "# magbar_df['OS.5'] = magbar_df['OS.5'].str.replace(',', '.').astype(float)\n",
    "# magbar_df['OS.6'] = magbar_df['OS.6'].str.replace(',', '.').astype(float)"
   ]
  },
  {
   "cell_type": "code",
   "execution_count": 18,
   "id": "64839cf9-ba2d-422a-b789-f5fda17eb929",
   "metadata": {},
   "outputs": [],
   "source": [
    "# magbar_df.dtypes"
   ]
  },
  {
   "cell_type": "code",
   "execution_count": 19,
   "id": "8f9fdfcb-cb73-4d5b-a20c-a8a643e59c15",
   "metadata": {},
   "outputs": [],
   "source": [
    "# making a bar chart of all mag7\n",
    "\n",
    "# magbar_df.sort_values(by='OS', ascending=False) \\\n",
    "   # .head(10) \\\n",
    "   # .sort_values(by='OS') \\\n",
    "   # .plot(y='OS', x='Holders AAPL', kind='barh')"
   ]
  },
  {
   "cell_type": "code",
   "execution_count": null,
   "id": "2b154c8d-18af-4e08-9f31-703f3127d7f4",
   "metadata": {},
   "outputs": [],
   "source": [
    "# I want to make an excel-file to download\n",
    "\n",
    "sorted_df = magbar_df.sort_values(by='OS', ascending=False).head(10).sort_values(by='OS')\n",
    "selected_columns_df = sorted_df[['OS', 'Holders AAPL']]\n",
    "excel_file_path = 'holdersappl.xlsx'\n",
    "selected_columns_df.to_excel(excel_file_path, index=False)\n",
    "from IPython.display import FileLink\n",
    "FileLink(excel_file_path)"
   ]
  },
  {
   "cell_type": "code",
   "execution_count": null,
   "id": "3b37d544-02b3-4799-b76b-3a8aa5af94e4",
   "metadata": {},
   "outputs": [],
   "source": [
    "magbar_df.sort_values(by='OS.1', ascending=False) \\\n",
    "    .head(10) \\\n",
    "    .sort_values(by='OS.1') \\\n",
    "    .plot(y='OS.1', x='HoldersMETA', kind='barh')"
   ]
  },
  {
   "cell_type": "code",
   "execution_count": null,
   "id": "0b76579e-3df6-4e7e-b651-b7f09cd1e964",
   "metadata": {},
   "outputs": [],
   "source": [
    "sorted_df = magbar_df.sort_values(by='OS.1', ascending=False).head(10).sort_values(by='OS.1')\n",
    "selected_columns_df = sorted_df[['OS.1', 'HoldersMETA']]\n",
    "excel_file_path = 'holdersMETA.xlsx'\n",
    "selected_columns_df.to_excel(excel_file_path, index=False)\n",
    "from IPython.display import FileLink\n",
    "FileLink(excel_file_path)"
   ]
  },
  {
   "cell_type": "code",
   "execution_count": null,
   "id": "e7dc4c34-9801-4ebf-b423-5367ff142c3b",
   "metadata": {},
   "outputs": [],
   "source": [
    "magbar_df.sort_values(by='OS.2', ascending=False) \\\n",
    "    .head(10) \\\n",
    "    .sort_values(by='OS.2') \\\n",
    "    .plot(y='OS', x='HoldersAMZN', kind='barh')"
   ]
  },
  {
   "cell_type": "code",
   "execution_count": null,
   "id": "62da724a-cbc5-4f7c-babe-18309594ac52",
   "metadata": {},
   "outputs": [],
   "source": [
    "sorted_df = magbar_df.sort_values(by='OS.2', ascending=False).head(10).sort_values(by='OS.2')\n",
    "selected_columns_df = sorted_df[['OS.2', 'HoldersAMZN']]\n",
    "excel_file_path = 'holdersAMZN.xlsx'\n",
    "selected_columns_df.to_excel(excel_file_path, index=False)\n",
    "from IPython.display import FileLink\n",
    "FileLink(excel_file_path)"
   ]
  },
  {
   "cell_type": "code",
   "execution_count": null,
   "id": "501dd6ad-f69d-4cc9-a4a4-be88934341fb",
   "metadata": {},
   "outputs": [],
   "source": [
    "magbar_df.sort_values(by='OS.3', ascending=False) \\\n",
    "    .head(10) \\\n",
    "    .sort_values(by='OS.3') \\\n",
    "    .plot(y='OS', x='HoldersMSFT', kind='barh')"
   ]
  },
  {
   "cell_type": "code",
   "execution_count": null,
   "id": "f0345cde-2492-4ec0-ac7f-7234d06558a0",
   "metadata": {},
   "outputs": [],
   "source": [
    "sorted_df = magbar_df.sort_values(by='OS.3', ascending=False).head(10).sort_values(by='OS.3')\n",
    "selected_columns_df = sorted_df[['OS.3', 'HoldersMSFT']]\n",
    "excel_file_path = 'holdersMSFT.xlsx'\n",
    "selected_columns_df.to_excel(excel_file_path, index=False)\n",
    "from IPython.display import FileLink\n",
    "FileLink(excel_file_path)"
   ]
  },
  {
   "cell_type": "code",
   "execution_count": null,
   "id": "6016315d-3f8d-4464-ad37-ff90b28be5b7",
   "metadata": {},
   "outputs": [],
   "source": [
    "magbar_df.sort_values(by='OS.4', ascending=False) \\\n",
    "    .head(10) \\\n",
    "    .sort_values(by='OS.4') \\\n",
    "    .plot(y='OS.4', x='HoldersGOOG', kind='barh')"
   ]
  },
  {
   "cell_type": "code",
   "execution_count": null,
   "id": "e89209ad-7cbf-4a95-82ea-4068e8ffe082",
   "metadata": {},
   "outputs": [],
   "source": [
    "sorted_df = magbar_df.sort_values(by='OS.4', ascending=False).head(10).sort_values(by='OS.4')\n",
    "selected_columns_df = sorted_df[['OS.4', 'HoldersGOOG']]\n",
    "excel_file_path = 'holdersGOOG.xlsx'\n",
    "selected_columns_df.to_excel(excel_file_path, index=False)\n",
    "from IPython.display import FileLink\n",
    "FileLink(excel_file_path)"
   ]
  },
  {
   "cell_type": "code",
   "execution_count": null,
   "id": "86eb26b7-d262-4b77-a559-2aaeb4bbef04",
   "metadata": {},
   "outputs": [],
   "source": [
    "magbar_df.sort_values(by='OS.5', ascending=False) \\\n",
    "    .head(10) \\\n",
    "    .sort_values(by='OS.5') \\\n",
    "    .plot(y='OS.5', x='HoldersTSLA', kind='barh')"
   ]
  },
  {
   "cell_type": "code",
   "execution_count": null,
   "id": "263830e5-b973-47fc-88b7-f203bab6d69c",
   "metadata": {},
   "outputs": [],
   "source": [
    "sorted_df = magbar_df.sort_values(by='OS.5', ascending=False).head(10).sort_values(by='OS.5')\n",
    "selected_columns_df = sorted_df[['OS.5', 'HoldersTSLA']]\n",
    "excel_file_path = 'holdersTSLA.xlsx'\n",
    "selected_columns_df.to_excel(excel_file_path, index=False)\n",
    "from IPython.display import FileLink\n",
    "FileLink(excel_file_path)"
   ]
  },
  {
   "cell_type": "code",
   "execution_count": null,
   "id": "6cf28b8e-cb35-41e6-a91c-2f9a89eb924b",
   "metadata": {},
   "outputs": [],
   "source": [
    "magbar_df.sort_values(by='OS.6', ascending=False) \\\n",
    "    .head(10) \\\n",
    "    .sort_values(by='OS.6') \\\n",
    "    .plot(y='OS.6', x='HoldersNVDA', kind='barh')"
   ]
  },
  {
   "cell_type": "code",
   "execution_count": null,
   "id": "f70b3e90-8bc2-4d6a-a3d7-a98079f4e8dd",
   "metadata": {},
   "outputs": [],
   "source": [
    "sorted_df = magbar_df.sort_values(by='OS.6', ascending=False).head(10).sort_values(by='OS.6')\n",
    "selected_columns_df = sorted_df[['OS.6', 'HoldersNVDA']]\n",
    "excel_file_path = 'holdersNVDA.xlsx'\n",
    "selected_columns_df.to_excel(excel_file_path, index=False)\n",
    "from IPython.display import FileLink\n",
    "FileLink(excel_file_path)"
   ]
  },
  {
   "cell_type": "code",
   "execution_count": null,
   "id": "831e705a-26ba-45a6-9ee2-fb23ec365fbf",
   "metadata": {},
   "outputs": [],
   "source": []
  }
 ],
 "metadata": {
  "kernelspec": {
   "display_name": "Python 3 (ipykernel)",
   "language": "python",
   "name": "python3"
  },
  "language_info": {
   "codemirror_mode": {
    "name": "ipython",
    "version": 3
   },
   "file_extension": ".py",
   "mimetype": "text/x-python",
   "name": "python",
   "nbconvert_exporter": "python",
   "pygments_lexer": "ipython3",
   "version": "3.11.8"
  }
 },
 "nbformat": 4,
 "nbformat_minor": 5
}
