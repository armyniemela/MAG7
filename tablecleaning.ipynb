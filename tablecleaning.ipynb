{
 "cells": [
  {
   "cell_type": "markdown",
   "id": "1d1c6bd8-4863-468f-91cf-0765b71e68ea",
   "metadata": {},
   "source": [
    "In this notebook I'm cleaning data from a csv. It contains information about the 20 biggest share holders \n",
    "of the Magnificient 7 companys (Amazon, Alphabet, Apple, Microsoft, Nvidia and Tesla).\n",
    "I did some of it but had to start a gain."
   ]
  },
  {
   "cell_type": "code",
   "execution_count": 13,
   "id": "487fab54-5b70-4b17-8a86-5434ea4dd95f",
   "metadata": {},
   "outputs": [],
   "source": [
    "# import requests"
   ]
  },
  {
   "cell_type": "code",
   "execution_count": 14,
   "id": "59497736-dcda-4c89-bea3-5ef9a266f024",
   "metadata": {},
   "outputs": [],
   "source": [
    "# import pandas as pd"
   ]
  },
  {
   "cell_type": "code",
   "execution_count": 15,
   "id": "3001f766-4a67-4f95-b0e4-a9583a4defcd",
   "metadata": {},
   "outputs": [],
   "source": [
    "# cheking my data. it's not in good form.\n",
    "\n",
    "# mag_df = pd.read_csv(\"Mag7all.csv\")\n",
    "# print(mag_df)"
   ]
  },
  {
   "cell_type": "code",
   "execution_count": 16,
   "id": "6a75d139-4c82-4174-b82d-4b08e0ea3f51",
   "metadata": {},
   "outputs": [],
   "source": [
    "# mag_df = pd.read_csv(\"Mag7all.csv\")\n",
    "# mag_df.head()"
   ]
  },
  {
   "cell_type": "code",
   "execution_count": 17,
   "id": "a387eaf6-190e-42e5-95b6-d2c1e991e19d",
   "metadata": {},
   "outputs": [],
   "source": [
    "#removing the total-rows\n",
    "\n",
    "# mag_df = mag_df[~mag_df.iloc[:, 0].str.contains(\"Total\", na=False)]\n",
    "# mag_df.head()"
   ]
  },
  {
   "cell_type": "code",
   "execution_count": 18,
   "id": "fb2dc436-ca4b-4cf2-8af5-9d10a7202d4e",
   "metadata": {},
   "outputs": [],
   "source": [
    "#cheking the data if it worked\n",
    "\n",
    "# print(mag_df)"
   ]
  },
  {
   "cell_type": "code",
   "execution_count": 19,
   "id": "6a9bb57d-33e9-4bf0-81fd-8bc79f79bf85",
   "metadata": {
    "scrolled": true
   },
   "outputs": [],
   "source": [
    "#removed colums not needed (unnamed 2 and 3)\n",
    "\n",
    "# mag_df = mag_df.drop(columns=[mag_df.columns[2], mag_df.columns[3]])\n",
    "# mag_df.head()"
   ]
  },
  {
   "cell_type": "code",
   "execution_count": 21,
   "id": "87aa0294-ae8c-4b56-8cef-74f953134b46",
   "metadata": {},
   "outputs": [],
   "source": [
    "# removed the heads but realised that now I have to put this back to excell to get to next step.\n",
    "# all data can not be in same data frame\n",
    "\n",
    "# mag_df.columns = mag_df.iloc[0] \n",
    "# mag_df = mag_df[1:]\n",
    "# mag_df.reset_index(drop=True, inplace=True)\n",
    "# mag_df.head(21)"
   ]
  },
  {
   "cell_type": "code",
   "execution_count": null,
   "id": "011d25a6-1123-4f67-af20-2e775c81a542",
   "metadata": {},
   "outputs": [],
   "source": []
  }
 ],
 "metadata": {
  "kernelspec": {
   "display_name": "Python 3 (ipykernel)",
   "language": "python",
   "name": "python3"
  },
  "language_info": {
   "codemirror_mode": {
    "name": "ipython",
    "version": 3
   },
   "file_extension": ".py",
   "mimetype": "text/x-python",
   "name": "python",
   "nbconvert_exporter": "python",
   "pygments_lexer": "ipython3",
   "version": "3.11.8"
  }
 },
 "nbformat": 4,
 "nbformat_minor": 5
}
